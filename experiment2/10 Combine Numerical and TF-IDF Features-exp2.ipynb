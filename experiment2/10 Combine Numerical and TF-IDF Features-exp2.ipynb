{
 "cells": [
  {
   "cell_type": "markdown",
   "id": "a027764e-8df4-4803-8cc7-ce15280079a2",
   "metadata": {},
   "source": [
    "In this notebook we scale numerical features. \n",
    "- Numerical features should be scaled because they have different ranges and magnitudes, and scaling ensures that each feature contributes equally to the analysis, preventing features with larger ranges from dominating the results.\n",
    "- TF-IDF vectors are already normalized, with values generally in the range [0, 1], representing term frequencies normalized by document frequencies. Scaling these again could distort their meaning."
   ]
  },
  {
   "cell_type": "markdown",
   "id": "86f0b7f0-6575-43e7-8520-b9731bcaf4b6",
   "metadata": {},
   "source": [
    "### Get Data"
   ]
  },
  {
   "cell_type": "code",
   "execution_count": 15,
   "id": "f8152b75-60af-4f68-9765-68eb4ae909f2",
   "metadata": {},
   "outputs": [],
   "source": [
    "from sklearn.preprocessing import StandardScaler\n",
    "import pandas as pd\n",
    "import joblib\n",
    "\n",
    "# Load the dataset\n",
    "df = pd.read_csv('numeric_features_added_exp_2.csv')\n",
    "tfidf_features_df = pd.read_csv('tfidf_features_exp_2.csv')"
   ]
  },
  {
   "cell_type": "markdown",
   "id": "11ff2507-bc67-4615-b545-35b164312a01",
   "metadata": {},
   "source": [
    "### Check the range of the TF-IDF values in your tfidf_features_df"
   ]
  },
  {
   "cell_type": "code",
   "execution_count": 9,
   "id": "75187f61-ff56-47bf-9c9d-97b698fed5b9",
   "metadata": {},
   "outputs": [
    {
     "name": "stdout",
     "output_type": "stream",
     "text": [
      "Minimum TF-IDF value: -0.5237111733189144\n",
      "Maximum TF-IDF value: 0.8012009055934447\n"
     ]
    }
   ],
   "source": [
    "# Check the minimum and maximum values in the DataFrame\n",
    "min_tfidf_value = tfidf_features_df.min().min()\n",
    "max_tfidf_value = tfidf_features_df.max().max()\n",
    "\n",
    "print(f\"Minimum TF-IDF value: {min_tfidf_value}\")\n",
    "print(f\"Maximum TF-IDF value: {max_tfidf_value}\")"
   ]
  },
  {
   "cell_type": "markdown",
   "id": "49851ac6-a5d4-469e-a358-fa609af936c2",
   "metadata": {},
   "source": [
    "### Scaling numerical features"
   ]
  },
  {
   "cell_type": "code",
   "execution_count": 11,
   "id": "faba62d1-0397-4e7a-b7f0-bc27b8b08094",
   "metadata": {},
   "outputs": [
    {
     "data": {
      "text/html": [
       "<div>\n",
       "<style scoped>\n",
       "    .dataframe tbody tr th:only-of-type {\n",
       "        vertical-align: middle;\n",
       "    }\n",
       "\n",
       "    .dataframe tbody tr th {\n",
       "        vertical-align: top;\n",
       "    }\n",
       "\n",
       "    .dataframe thead th {\n",
       "        text-align: right;\n",
       "    }\n",
       "</style>\n",
       "<table border=\"1\" class=\"dataframe\">\n",
       "  <thead>\n",
       "    <tr style=\"text-align: right;\">\n",
       "      <th></th>\n",
       "      <th>reading_time</th>\n",
       "      <th>mistakes_dist_ratio</th>\n",
       "      <th>polysyllabcount</th>\n",
       "      <th>sentence_count</th>\n",
       "      <th>difficult_words</th>\n",
       "      <th>comma_count</th>\n",
       "      <th>transitional_phrases_c</th>\n",
       "      <th>text_dist_words_ratio</th>\n",
       "    </tr>\n",
       "  </thead>\n",
       "  <tbody>\n",
       "    <tr>\n",
       "      <th>0</th>\n",
       "      <td>15.44</td>\n",
       "      <td>0.092</td>\n",
       "      <td>10</td>\n",
       "      <td>14</td>\n",
       "      <td>25</td>\n",
       "      <td>2</td>\n",
       "      <td>5</td>\n",
       "      <td>0.516</td>\n",
       "    </tr>\n",
       "  </tbody>\n",
       "</table>\n",
       "</div>"
      ],
      "text/plain": [
       "   reading_time  mistakes_dist_ratio  polysyllabcount  sentence_count  \\\n",
       "0         15.44                0.092               10              14   \n",
       "\n",
       "   difficult_words  comma_count  transitional_phrases_c  text_dist_words_ratio  \n",
       "0               25            2                       5                  0.516  "
      ]
     },
     "execution_count": 11,
     "metadata": {},
     "output_type": "execute_result"
    }
   ],
   "source": [
    "# Select numerical features from df\n",
    "numerical_features = [\n",
    "    'reading_time',\n",
    "    'mistakes_dist_ratio',\n",
    "    'polysyllabcount',\n",
    "    'sentence_count',\n",
    "    'difficult_words',\n",
    "    'comma_count',\n",
    "    'transitional_phrases_c',\n",
    "    'text_dist_words_ratio'\n",
    "]\n",
    "\n",
    "# Create a DataFrame for numerical features\n",
    "numerical_features_df = df[numerical_features]\n",
    "numerical_features_df.head(1)"
   ]
  },
  {
   "cell_type": "code",
   "execution_count": 12,
   "id": "3fae3ea9-72e1-4c42-aec8-d55a21050826",
   "metadata": {},
   "outputs": [
    {
     "name": "stdout",
     "output_type": "stream",
     "text": [
      "Range of 'mistakes_dist_ratio': (0.0018399264029438, 0.1847133757961783)\n",
      "Range of 'text_dist_words_ratio': (0.053743961352657, 0.7371428571428571)\n"
     ]
    }
   ],
   "source": [
    "# Find the range of 'mistakes_dist_ratio' and 'text_dist_words_ratio' features\n",
    "mistakes_dist_ratio_range = (df['mistakes_dist_ratio'].min(), df['mistakes_dist_ratio'].max())\n",
    "text_dist_words_ratio_range = (df['text_dist_words_ratio'].min(), df['text_dist_words_ratio'].max())\n",
    "\n",
    "print(f\"Range of 'mistakes_dist_ratio': {mistakes_dist_ratio_range}\")\n",
    "print(f\"Range of 'text_dist_words_ratio': {text_dist_words_ratio_range}\")\n"
   ]
  },
  {
   "cell_type": "markdown",
   "id": "68a2003a-4ac1-4d3f-9bd5-da7e82a618f2",
   "metadata": {},
   "source": [
    "Even though the 'mistakes_dist_ratio' and 'text_dist_words_ratio' features already fall within relatively small ranges, scaling them ensures consistency and comparability with the TF-IDF features. This normalization prevents any single feature from disproportionately influencing the model due to differing scales."
   ]
  },
  {
   "cell_type": "code",
   "execution_count": 16,
   "id": "ae65f8f5-f75b-4545-8ca5-04ae68d7780d",
   "metadata": {},
   "outputs": [
    {
     "name": "stdout",
     "output_type": "stream",
     "text": [
      "Scaler saved\n"
     ]
    }
   ],
   "source": [
    "# Exclude 'mistakes_dist_ratio' and 'text_dist_words_ratio' from scaling\n",
    "features_to_scale = [\n",
    "    'reading_time',\n",
    "    'mistakes_dist_ratio',\n",
    "    'polysyllabcount',\n",
    "    'sentence_count',\n",
    "    'difficult_words',\n",
    "    'comma_count',\n",
    "    'transitional_phrases_c',\n",
    "    'text_dist_words_ratio'\n",
    "]\n",
    "\n",
    "# Scale the selected numerical features\n",
    "scaler = StandardScaler()\n",
    "scaled_features = scaler.fit_transform(numerical_features_df[features_to_scale])\n",
    "\n",
    "# Convert scaled numerical features back to DataFrame\n",
    "scaled_features_df = pd.DataFrame(scaled_features, columns=features_to_scale)\n"
   ]
  },
  {
   "cell_type": "code",
   "execution_count": 38,
   "id": "b42e2538-6e91-499c-b392-5b612c29419a",
   "metadata": {},
   "outputs": [
    {
     "name": "stdout",
     "output_type": "stream",
     "text": [
      "                             min       max\n",
      "reading_time           -1.372675  5.644600\n",
      "mistakes_dist_ratio    -1.942541  3.896023\n",
      "polysyllabcount        -1.443892  9.054322\n",
      "sentence_count         -1.935769  7.261488\n",
      "difficult_words        -1.663917  6.845090\n",
      "comma_count            -1.151817  7.596885\n",
      "transitional_phrases_c -2.172849  5.463704\n",
      "text_dist_words_ratio  -4.812209  3.426264\n"
     ]
    }
   ],
   "source": [
    "# Check the minimum and maximum values for each feature\n",
    "min_values = scaled_features_df.min()\n",
    "max_values = scaled_features_df.max()\n",
    "\n",
    "# Create a DataFrame to display the range of each feature\n",
    "range_df = pd.DataFrame({'min': min_values, 'max': max_values})\n",
    "\n",
    "# Display the range\n",
    "print(range_df)"
   ]
  },
  {
   "cell_type": "markdown",
   "id": "78a4643a-2b38-4da7-a395-35c15ad27693",
   "metadata": {},
   "source": [
    "### Combine numerical scaled features with TF_IDF vectors"
   ]
  },
  {
   "cell_type": "code",
   "execution_count": 18,
   "id": "0262fd58-a12a-4bc2-b9dc-c393bb951c48",
   "metadata": {},
   "outputs": [
    {
     "name": "stdout",
     "output_type": "stream",
     "text": [
      "Total number of features: 1308\n",
      "File exported\n"
     ]
    }
   ],
   "source": [
    "# Combine scaled and unscaled features\n",
    "#combined_numerical_features_df = pd.concat([scaled_features_df, unscaled_features_df], axis=1)\n",
    "\n",
    "# Combine the numerical features with the TF-IDF features\n",
    "combined_features_df = pd.concat([scaled_features_df, tfidf_features_df], axis=1)\n",
    "\n",
    "# Print the count of the combined features\n",
    "print(f\"Total number of features: {combined_features_df.shape[1]}\")\n",
    "\n",
    "# Export the combined features to a CSV file\n",
    "combined_features_df.to_csv('combined_features_exp_2.csv', index=False)\n",
    "print('File exported')"
   ]
  },
  {
   "cell_type": "code",
   "execution_count": 27,
   "id": "a6ef8ac0-92ba-434c-8711-3a2e1766a406",
   "metadata": {},
   "outputs": [
    {
     "data": {
      "text/html": [
       "<div>\n",
       "<style scoped>\n",
       "    .dataframe tbody tr th:only-of-type {\n",
       "        vertical-align: middle;\n",
       "    }\n",
       "\n",
       "    .dataframe tbody tr th {\n",
       "        vertical-align: top;\n",
       "    }\n",
       "\n",
       "    .dataframe thead th {\n",
       "        text-align: right;\n",
       "    }\n",
       "</style>\n",
       "<table border=\"1\" class=\"dataframe\">\n",
       "  <thead>\n",
       "    <tr style=\"text-align: right;\">\n",
       "      <th></th>\n",
       "      <th>reading_time</th>\n",
       "      <th>mistakes_dist_ratio</th>\n",
       "      <th>polysyllabcount</th>\n",
       "      <th>sentence_count</th>\n",
       "      <th>difficult_words</th>\n",
       "      <th>comma_count</th>\n",
       "      <th>transitional_phrases_c</th>\n",
       "      <th>text_dist_words_ratio</th>\n",
       "      <th>tfidf_feature_1</th>\n",
       "      <th>tfidf_feature_2</th>\n",
       "      <th>...</th>\n",
       "      <th>tfidf_feature_1291</th>\n",
       "      <th>tfidf_feature_1292</th>\n",
       "      <th>tfidf_feature_1293</th>\n",
       "      <th>tfidf_feature_1294</th>\n",
       "      <th>tfidf_feature_1295</th>\n",
       "      <th>tfidf_feature_1296</th>\n",
       "      <th>tfidf_feature_1297</th>\n",
       "      <th>tfidf_feature_1298</th>\n",
       "      <th>tfidf_feature_1299</th>\n",
       "      <th>tfidf_feature_1300</th>\n",
       "    </tr>\n",
       "  </thead>\n",
       "  <tbody>\n",
       "    <tr>\n",
       "      <th>0</th>\n",
       "      <td>-0.832774</td>\n",
       "      <td>0.935982</td>\n",
       "      <td>-1.011867</td>\n",
       "      <td>-0.577084</td>\n",
       "      <td>-0.841618</td>\n",
       "      <td>-0.986748</td>\n",
       "      <td>-1.154642</td>\n",
       "      <td>0.760354</td>\n",
       "      <td>-0.040691</td>\n",
       "      <td>-0.050105</td>\n",
       "      <td>...</td>\n",
       "      <td>-0.002506</td>\n",
       "      <td>-0.011912</td>\n",
       "      <td>0.004882</td>\n",
       "      <td>0.007440</td>\n",
       "      <td>0.015452</td>\n",
       "      <td>-0.010794</td>\n",
       "      <td>0.020366</td>\n",
       "      <td>0.006662</td>\n",
       "      <td>-0.020205</td>\n",
       "      <td>0.010390</td>\n",
       "    </tr>\n",
       "    <tr>\n",
       "      <th>1</th>\n",
       "      <td>-0.060045</td>\n",
       "      <td>0.084387</td>\n",
       "      <td>-0.493436</td>\n",
       "      <td>0.259031</td>\n",
       "      <td>-0.448344</td>\n",
       "      <td>0.003672</td>\n",
       "      <td>-0.136435</td>\n",
       "      <td>0.173711</td>\n",
       "      <td>-0.055458</td>\n",
       "      <td>-0.061811</td>\n",
       "      <td>...</td>\n",
       "      <td>-0.006259</td>\n",
       "      <td>-0.003374</td>\n",
       "      <td>-0.001629</td>\n",
       "      <td>-0.014284</td>\n",
       "      <td>-0.007902</td>\n",
       "      <td>0.003364</td>\n",
       "      <td>0.003912</td>\n",
       "      <td>-0.000661</td>\n",
       "      <td>0.013900</td>\n",
       "      <td>-0.003761</td>\n",
       "    </tr>\n",
       "    <tr>\n",
       "      <th>2</th>\n",
       "      <td>-1.039652</td>\n",
       "      <td>2.352371</td>\n",
       "      <td>-0.839057</td>\n",
       "      <td>-0.890627</td>\n",
       "      <td>-0.734361</td>\n",
       "      <td>-0.986748</td>\n",
       "      <td>-1.663746</td>\n",
       "      <td>1.868880</td>\n",
       "      <td>0.528772</td>\n",
       "      <td>0.135876</td>\n",
       "      <td>...</td>\n",
       "      <td>-0.013100</td>\n",
       "      <td>0.019167</td>\n",
       "      <td>-0.016713</td>\n",
       "      <td>-0.002862</td>\n",
       "      <td>-0.010954</td>\n",
       "      <td>-0.005106</td>\n",
       "      <td>0.002185</td>\n",
       "      <td>-0.003971</td>\n",
       "      <td>-0.014638</td>\n",
       "      <td>-0.001101</td>\n",
       "    </tr>\n",
       "    <tr>\n",
       "      <th>3</th>\n",
       "      <td>-0.562463</td>\n",
       "      <td>0.621275</td>\n",
       "      <td>-0.277424</td>\n",
       "      <td>-1.099655</td>\n",
       "      <td>0.445459</td>\n",
       "      <td>-0.821678</td>\n",
       "      <td>-0.390987</td>\n",
       "      <td>1.600770</td>\n",
       "      <td>-0.277869</td>\n",
       "      <td>0.447509</td>\n",
       "      <td>...</td>\n",
       "      <td>0.006568</td>\n",
       "      <td>-0.017004</td>\n",
       "      <td>0.005746</td>\n",
       "      <td>-0.002621</td>\n",
       "      <td>-0.018733</td>\n",
       "      <td>0.001271</td>\n",
       "      <td>-0.014179</td>\n",
       "      <td>0.001328</td>\n",
       "      <td>0.000835</td>\n",
       "      <td>0.004552</td>\n",
       "    </tr>\n",
       "    <tr>\n",
       "      <th>4</th>\n",
       "      <td>-1.044698</td>\n",
       "      <td>1.098406</td>\n",
       "      <td>-1.400690</td>\n",
       "      <td>-0.786112</td>\n",
       "      <td>-1.342148</td>\n",
       "      <td>-0.739143</td>\n",
       "      <td>-1.409194</td>\n",
       "      <td>-0.076249</td>\n",
       "      <td>-0.050562</td>\n",
       "      <td>-0.063374</td>\n",
       "      <td>...</td>\n",
       "      <td>0.000263</td>\n",
       "      <td>-0.001662</td>\n",
       "      <td>-0.007233</td>\n",
       "      <td>0.003478</td>\n",
       "      <td>-0.002804</td>\n",
       "      <td>0.004634</td>\n",
       "      <td>0.007583</td>\n",
       "      <td>-0.006371</td>\n",
       "      <td>0.004315</td>\n",
       "      <td>0.000387</td>\n",
       "    </tr>\n",
       "  </tbody>\n",
       "</table>\n",
       "<p>5 rows × 1308 columns</p>\n",
       "</div>"
      ],
      "text/plain": [
       "   reading_time  mistakes_dist_ratio  polysyllabcount  sentence_count  \\\n",
       "0     -0.832774             0.935982        -1.011867       -0.577084   \n",
       "1     -0.060045             0.084387        -0.493436        0.259031   \n",
       "2     -1.039652             2.352371        -0.839057       -0.890627   \n",
       "3     -0.562463             0.621275        -0.277424       -1.099655   \n",
       "4     -1.044698             1.098406        -1.400690       -0.786112   \n",
       "\n",
       "   difficult_words  comma_count  transitional_phrases_c  \\\n",
       "0        -0.841618    -0.986748               -1.154642   \n",
       "1        -0.448344     0.003672               -0.136435   \n",
       "2        -0.734361    -0.986748               -1.663746   \n",
       "3         0.445459    -0.821678               -0.390987   \n",
       "4        -1.342148    -0.739143               -1.409194   \n",
       "\n",
       "   text_dist_words_ratio  tfidf_feature_1  tfidf_feature_2  ...  \\\n",
       "0               0.760354        -0.040691        -0.050105  ...   \n",
       "1               0.173711        -0.055458        -0.061811  ...   \n",
       "2               1.868880         0.528772         0.135876  ...   \n",
       "3               1.600770        -0.277869         0.447509  ...   \n",
       "4              -0.076249        -0.050562        -0.063374  ...   \n",
       "\n",
       "   tfidf_feature_1291  tfidf_feature_1292  tfidf_feature_1293  \\\n",
       "0           -0.002506           -0.011912            0.004882   \n",
       "1           -0.006259           -0.003374           -0.001629   \n",
       "2           -0.013100            0.019167           -0.016713   \n",
       "3            0.006568           -0.017004            0.005746   \n",
       "4            0.000263           -0.001662           -0.007233   \n",
       "\n",
       "   tfidf_feature_1294  tfidf_feature_1295  tfidf_feature_1296  \\\n",
       "0            0.007440            0.015452           -0.010794   \n",
       "1           -0.014284           -0.007902            0.003364   \n",
       "2           -0.002862           -0.010954           -0.005106   \n",
       "3           -0.002621           -0.018733            0.001271   \n",
       "4            0.003478           -0.002804            0.004634   \n",
       "\n",
       "   tfidf_feature_1297  tfidf_feature_1298  tfidf_feature_1299  \\\n",
       "0            0.020366            0.006662           -0.020205   \n",
       "1            0.003912           -0.000661            0.013900   \n",
       "2            0.002185           -0.003971           -0.014638   \n",
       "3           -0.014179            0.001328            0.000835   \n",
       "4            0.007583           -0.006371            0.004315   \n",
       "\n",
       "   tfidf_feature_1300  \n",
       "0            0.010390  \n",
       "1           -0.003761  \n",
       "2           -0.001101  \n",
       "3            0.004552  \n",
       "4            0.000387  \n",
       "\n",
       "[5 rows x 1308 columns]"
      ]
     },
     "execution_count": 27,
     "metadata": {},
     "output_type": "execute_result"
    }
   ],
   "source": [
    "combined_features_df.head()"
   ]
  },
  {
   "cell_type": "code",
   "execution_count": null,
   "id": "d6401c06-0a43-4381-9c22-dfa1e8b306e8",
   "metadata": {},
   "outputs": [],
   "source": []
  },
  {
   "cell_type": "code",
   "execution_count": null,
   "id": "0035936b-25de-45d0-a2bf-963ff167899c",
   "metadata": {},
   "outputs": [],
   "source": []
  }
 ],
 "metadata": {
  "kernelspec": {
   "display_name": "Python 3 (ipykernel)",
   "language": "python",
   "name": "python3"
  },
  "language_info": {
   "codemirror_mode": {
    "name": "ipython",
    "version": 3
   },
   "file_extension": ".py",
   "mimetype": "text/x-python",
   "name": "python",
   "nbconvert_exporter": "python",
   "pygments_lexer": "ipython3",
   "version": "3.11.7"
  }
 },
 "nbformat": 4,
 "nbformat_minor": 5
}
