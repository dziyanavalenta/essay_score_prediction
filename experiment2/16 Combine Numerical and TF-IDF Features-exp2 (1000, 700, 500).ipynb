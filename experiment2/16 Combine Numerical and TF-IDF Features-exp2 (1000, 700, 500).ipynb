{
 "cells": [
  {
   "cell_type": "markdown",
   "id": "a027764e-8df4-4803-8cc7-ce15280079a2",
   "metadata": {},
   "source": [
    "In this notebook we scale numerical features. \n",
    "- Numerical features should be scaled because they have different ranges and magnitudes, and scaling ensures that each feature contributes equally to the analysis, preventing features with larger ranges from dominating the results.\n",
    "- TF-IDF vectors are already normalized, with values generally in the range [0, 1], representing term frequencies normalized by document frequencies. Scaling these again could distort their meaning."
   ]
  },
  {
   "cell_type": "markdown",
   "id": "86f0b7f0-6575-43e7-8520-b9731bcaf4b6",
   "metadata": {},
   "source": [
    "### Get Data"
   ]
  },
  {
   "cell_type": "code",
   "execution_count": 30,
   "id": "f8152b75-60af-4f68-9765-68eb4ae909f2",
   "metadata": {},
   "outputs": [],
   "source": [
    "from sklearn.preprocessing import StandardScaler\n",
    "import pandas as pd\n",
    "\n",
    "# Load the dataset\n",
    "df = pd.read_csv('numeric_features_added_exp_2.csv')\n",
    "tfidf_features_df_1000 = pd.read_csv('tfidf_features_exp_2_pca_1000.csv')\n",
    "tfidf_features_df_700 = pd.read_csv('tfidf_features_exp_2_pca_700.csv')\n",
    "tfidf_features_df_500 = pd.read_csv('tfidf_features_exp_2_pca_500.csv')"
   ]
  },
  {
   "cell_type": "markdown",
   "id": "49851ac6-a5d4-469e-a358-fa609af936c2",
   "metadata": {},
   "source": [
    "### Scaling numerical features"
   ]
  },
  {
   "cell_type": "code",
   "execution_count": 32,
   "id": "faba62d1-0397-4e7a-b7f0-bc27b8b08094",
   "metadata": {},
   "outputs": [
    {
     "data": {
      "text/html": [
       "<div>\n",
       "<style scoped>\n",
       "    .dataframe tbody tr th:only-of-type {\n",
       "        vertical-align: middle;\n",
       "    }\n",
       "\n",
       "    .dataframe tbody tr th {\n",
       "        vertical-align: top;\n",
       "    }\n",
       "\n",
       "    .dataframe thead th {\n",
       "        text-align: right;\n",
       "    }\n",
       "</style>\n",
       "<table border=\"1\" class=\"dataframe\">\n",
       "  <thead>\n",
       "    <tr style=\"text-align: right;\">\n",
       "      <th></th>\n",
       "      <th>reading_time</th>\n",
       "      <th>mistakes_dist_ratio</th>\n",
       "      <th>polysyllabcount</th>\n",
       "      <th>sentence_count</th>\n",
       "      <th>difficult_words</th>\n",
       "      <th>comma_count</th>\n",
       "      <th>transitional_phrases_c</th>\n",
       "      <th>text_dist_words_ratio</th>\n",
       "    </tr>\n",
       "  </thead>\n",
       "  <tbody>\n",
       "    <tr>\n",
       "      <th>0</th>\n",
       "      <td>15.44</td>\n",
       "      <td>0.092</td>\n",
       "      <td>10</td>\n",
       "      <td>14</td>\n",
       "      <td>25</td>\n",
       "      <td>2</td>\n",
       "      <td>5</td>\n",
       "      <td>0.516</td>\n",
       "    </tr>\n",
       "  </tbody>\n",
       "</table>\n",
       "</div>"
      ],
      "text/plain": [
       "   reading_time  mistakes_dist_ratio  polysyllabcount  sentence_count  \\\n",
       "0         15.44                0.092               10              14   \n",
       "\n",
       "   difficult_words  comma_count  transitional_phrases_c  text_dist_words_ratio  \n",
       "0               25            2                       5                  0.516  "
      ]
     },
     "execution_count": 32,
     "metadata": {},
     "output_type": "execute_result"
    }
   ],
   "source": [
    "# Select numerical features from df\n",
    "numerical_features = [\n",
    "    'reading_time',\n",
    "    'mistakes_dist_ratio',\n",
    "    'polysyllabcount',\n",
    "    'sentence_count',\n",
    "    'difficult_words',\n",
    "    'comma_count',\n",
    "    'transitional_phrases_c',\n",
    "    'text_dist_words_ratio'\n",
    "]\n",
    "\n",
    "# Create a DataFrame for numerical features\n",
    "numerical_features_df = df[numerical_features]\n",
    "numerical_features_df.head(1)"
   ]
  },
  {
   "cell_type": "code",
   "execution_count": 33,
   "id": "ae65f8f5-f75b-4545-8ca5-04ae68d7780d",
   "metadata": {},
   "outputs": [],
   "source": [
    "# Exclude 'mistakes_dist_ratio' and 'text_dist_words_ratio' from scaling\n",
    "features_to_scale = [\n",
    "    'reading_time',\n",
    "    'mistakes_dist_ratio',\n",
    "    'polysyllabcount',\n",
    "    'sentence_count',\n",
    "    'difficult_words',\n",
    "    'comma_count',\n",
    "    'transitional_phrases_c',\n",
    "    'text_dist_words_ratio'\n",
    "]\n",
    "\n",
    "# Scale the selected numerical features\n",
    "scaler = StandardScaler()\n",
    "scaled_features = scaler.fit_transform(numerical_features_df[features_to_scale])\n",
    "\n",
    "# Convert scaled numerical features back to DataFrame\n",
    "scaled_features_df = pd.DataFrame(scaled_features, columns=features_to_scale)"
   ]
  },
  {
   "cell_type": "markdown",
   "id": "338c8b37-b138-40bc-a713-1db1fab4f801",
   "metadata": {},
   "source": [
    "### Save Scaler"
   ]
  },
  {
   "cell_type": "code",
   "execution_count": 37,
   "id": "69b34057-cacb-47c3-b860-1d767d23afff",
   "metadata": {},
   "outputs": [
    {
     "name": "stdout",
     "output_type": "stream",
     "text": [
      "Scaler saved\n"
     ]
    }
   ],
   "source": [
    "import joblib\n",
    "# Save the scaler\n",
    "joblib.dump(scaler, 'scaler_exp2.pkl')\n",
    "print(\"Scaler saved\")"
   ]
  },
  {
   "cell_type": "markdown",
   "id": "78a4643a-2b38-4da7-a395-35c15ad27693",
   "metadata": {},
   "source": [
    "### Combine numerical scaled features with TF_IDF vectors"
   ]
  },
  {
   "cell_type": "code",
   "execution_count": 24,
   "id": "0262fd58-a12a-4bc2-b9dc-c393bb951c48",
   "metadata": {},
   "outputs": [
    {
     "name": "stdout",
     "output_type": "stream",
     "text": [
      "Total number of features: 1008\n",
      "Total number of features: 708\n",
      "Total number of features: 508\n",
      "Files exported\n"
     ]
    }
   ],
   "source": [
    "# Combine the numerical features with the TF-IDF features\n",
    "combined_features_df_1000 = pd.concat([scaled_features_df, tfidf_features_df_1000], axis=1)\n",
    "combined_features_df_700 = pd.concat([scaled_features_df, tfidf_features_df_700], axis=1)\n",
    "combined_features_df_500 = pd.concat([scaled_features_df, tfidf_features_df_500], axis=1)\n",
    "\n",
    "# Print the count of the combined features\n",
    "print(f\"Total number of features: {combined_features_df_1000.shape[1]}\")\n",
    "print(f\"Total number of features: {combined_features_df_700.shape[1]}\")\n",
    "print(f\"Total number of features: {combined_features_df_500.shape[1]}\")\n",
    "\n",
    "# Export the combined features to a CSV file\n",
    "combined_features_df_1000.to_csv('combined_features_exp_2_pca_1000.csv', index=False)\n",
    "combined_features_df_700.to_csv('combined_features_exp_2_pca_700.csv', index=False)\n",
    "combined_features_df_500.to_csv('combined_features_exp_2_pca_500.csv', index=False)\n",
    "print('Files exported')"
   ]
  }
 ],
 "metadata": {
  "kernelspec": {
   "display_name": "Python 3 (ipykernel)",
   "language": "python",
   "name": "python3"
  },
  "language_info": {
   "codemirror_mode": {
    "name": "ipython",
    "version": 3
   },
   "file_extension": ".py",
   "mimetype": "text/x-python",
   "name": "python",
   "nbconvert_exporter": "python",
   "pygments_lexer": "ipython3",
   "version": "3.11.7"
  }
 },
 "nbformat": 4,
 "nbformat_minor": 5
}
