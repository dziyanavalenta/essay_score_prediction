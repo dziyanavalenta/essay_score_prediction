{
 "cells": [
  {
   "cell_type": "markdown",
   "id": "9959379b-d2af-4b11-99e2-926ba5fa0230",
   "metadata": {},
   "source": [
    "# Extract Headers from Notebook"
   ]
  },
  {
   "cell_type": "code",
   "execution_count": null,
   "id": "0fa6e911-4cec-4d55-af14-ed86a6391000",
   "metadata": {},
   "outputs": [],
   "source": [
    "import nbformat\n",
    "\n",
    "# Load the notebook\n",
    "notebook_path = '14. Experiment 1.ipynb'  # Adjust the path if the notebook is in a different location\n",
    "with open(notebook_path, 'r') as f:\n",
    "    notebook = nbformat.read(f, as_version=4)\n",
    "\n",
    "# Extract headers\n",
    "def extract_headers(cells):\n",
    "    headers = []\n",
    "    for cell in cells:\n",
    "        if cell.cell_type == 'markdown':\n",
    "            lines = cell.source.split('\\n')\n",
    "            for line in lines:\n",
    "                if line.startswith('#'):\n",
    "                    headers.append(line)\n",
    "    return headers\n",
    "\n",
    "headers = extract_headers(notebook.cells)\n",
    "\n",
    "for header in headers:\n",
    "    print(header)\n"
   ]
  },
  {
   "cell_type": "markdown",
   "id": "115a0cd0-061c-4f16-9af5-ace46e24f8f1",
   "metadata": {},
   "source": [
    "# Content Format"
   ]
  },
  {
   "cell_type": "markdown",
   "id": "e4cc1c1b-c5d0-4c8c-9512-bf3938cbaf22",
   "metadata": {},
   "source": []
  },
  {
   "cell_type": "code",
   "execution_count": null,
   "id": "d557df19-ab96-4426-afd3-4d21aca308fb",
   "metadata": {},
   "outputs": [],
   "source": []
  }
 ],
 "metadata": {
  "kernelspec": {
   "display_name": "Python 3 (ipykernel)",
   "language": "python",
   "name": "python3"
  },
  "language_info": {
   "codemirror_mode": {
    "name": "ipython",
    "version": 3
   },
   "file_extension": ".py",
   "mimetype": "text/x-python",
   "name": "python",
   "nbconvert_exporter": "python",
   "pygments_lexer": "ipython3",
   "version": "3.11.7"
  }
 },
 "nbformat": 4,
 "nbformat_minor": 5
}
