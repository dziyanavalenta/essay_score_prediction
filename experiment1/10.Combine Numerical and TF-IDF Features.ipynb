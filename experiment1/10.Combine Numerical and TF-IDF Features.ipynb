{
 "cells": [
  {
   "cell_type": "markdown",
   "id": "a027764e-8df4-4803-8cc7-ce15280079a2",
   "metadata": {},
   "source": [
    "In this notebook we scale numerical features. \n",
    "- Numerical features should be scaled because they have different ranges and magnitudes, and scaling ensures that each feature contributes equally to the analysis, preventing features with larger ranges from dominating the results.\n",
    "- TF-IDF vectors are already normalized, with values generally in the range [0, 1], representing term frequencies normalized by document frequencies. Scaling these again could distort their meaning."
   ]
  },
  {
   "cell_type": "markdown",
   "id": "86f0b7f0-6575-43e7-8520-b9731bcaf4b6",
   "metadata": {},
   "source": [
    "### Get Data"
   ]
  },
  {
   "cell_type": "code",
   "execution_count": 3,
   "id": "f8152b75-60af-4f68-9765-68eb4ae909f2",
   "metadata": {},
   "outputs": [],
   "source": [
    "from sklearn.preprocessing import StandardScaler\n",
    "import pandas as pd\n",
    "\n",
    "# Load the dataset\n",
    "df = pd.read_csv('numeric_features_added_v1.csv')\n",
    "tfidf_features_df = pd.read_csv('tfidf_features.csv')"
   ]
  },
  {
   "cell_type": "markdown",
   "id": "b069850c-4543-4b35-bf06-c9261e397ef2",
   "metadata": {},
   "source": [
    "### Check the range of the TF-IDF values in your tfidf_features_df"
   ]
  },
  {
   "cell_type": "code",
   "execution_count": 17,
   "id": "1b2e7f61-823f-425a-8a70-8a7ab6a4e8c3",
   "metadata": {},
   "outputs": [
    {
     "name": "stdout",
     "output_type": "stream",
     "text": [
      "Minimum TF-IDF value: -0.5213811721886221\n",
      "Maximum TF-IDF value: 0.6918156199801564\n"
     ]
    }
   ],
   "source": [
    "# Check the minimum and maximum values in the DataFrame\n",
    "min_tfidf_value = tfidf_features_df.min().min()\n",
    "max_tfidf_value = tfidf_features_df.max().max()\n",
    "\n",
    "print(f\"Minimum TF-IDF value: {min_tfidf_value}\")\n",
    "print(f\"Maximum TF-IDF value: {max_tfidf_value}\")"
   ]
  },
  {
   "cell_type": "markdown",
   "id": "49851ac6-a5d4-469e-a358-fa609af936c2",
   "metadata": {},
   "source": [
    "### Scaling numerical features"
   ]
  },
  {
   "cell_type": "code",
   "execution_count": 5,
   "id": "faba62d1-0397-4e7a-b7f0-bc27b8b08094",
   "metadata": {},
   "outputs": [
    {
     "data": {
      "text/html": [
       "<div>\n",
       "<style scoped>\n",
       "    .dataframe tbody tr th:only-of-type {\n",
       "        vertical-align: middle;\n",
       "    }\n",
       "\n",
       "    .dataframe tbody tr th {\n",
       "        vertical-align: top;\n",
       "    }\n",
       "\n",
       "    .dataframe thead th {\n",
       "        text-align: right;\n",
       "    }\n",
       "</style>\n",
       "<table border=\"1\" class=\"dataframe\">\n",
       "  <thead>\n",
       "    <tr style=\"text-align: right;\">\n",
       "      <th></th>\n",
       "      <th>reading_time</th>\n",
       "      <th>mistakes_dist_ratio</th>\n",
       "      <th>polysyllabcount</th>\n",
       "      <th>sentence_count</th>\n",
       "      <th>difficult_words</th>\n",
       "      <th>comma_count</th>\n",
       "      <th>transitional_phrases_c</th>\n",
       "      <th>text_dist_words_ratio</th>\n",
       "    </tr>\n",
       "  </thead>\n",
       "  <tbody>\n",
       "    <tr>\n",
       "      <th>0</th>\n",
       "      <td>45.92</td>\n",
       "      <td>0.03453</td>\n",
       "      <td>45</td>\n",
       "      <td>28</td>\n",
       "      <td>66</td>\n",
       "      <td>9</td>\n",
       "      <td>13</td>\n",
       "      <td>0.343923</td>\n",
       "    </tr>\n",
       "  </tbody>\n",
       "</table>\n",
       "</div>"
      ],
      "text/plain": [
       "   reading_time  mistakes_dist_ratio  polysyllabcount  sentence_count  \\\n",
       "0         45.92              0.03453               45              28   \n",
       "\n",
       "   difficult_words  comma_count  transitional_phrases_c  text_dist_words_ratio  \n",
       "0               66            9                      13               0.343923  "
      ]
     },
     "execution_count": 5,
     "metadata": {},
     "output_type": "execute_result"
    }
   ],
   "source": [
    "# Select numerical features from df\n",
    "numerical_features = [\n",
    "    'reading_time',\n",
    "    'mistakes_dist_ratio',\n",
    "    'polysyllabcount',\n",
    "    'sentence_count',\n",
    "    'difficult_words',\n",
    "    'comma_count',\n",
    "    'transitional_phrases_c',\n",
    "    'text_dist_words_ratio'\n",
    "]\n",
    "\n",
    "# Create a DataFrame for numerical features\n",
    "numerical_features_df = df[numerical_features]\n",
    "numerical_features_df.head(1)"
   ]
  },
  {
   "cell_type": "code",
   "execution_count": 6,
   "id": "3fae3ea9-72e1-4c42-aec8-d55a21050826",
   "metadata": {},
   "outputs": [
    {
     "name": "stdout",
     "output_type": "stream",
     "text": [
      "Range of 'mistakes_dist_ratio': (0.0036697247706422, 0.1847133757961783)\n",
      "Range of 'text_dist_words_ratio': (0.053743961352657, 0.7371428571428571)\n"
     ]
    }
   ],
   "source": [
    "# Find the range of 'mistakes_dist_ratio' and 'text_dist_words_ratio' features\n",
    "mistakes_dist_ratio_range = (df['mistakes_dist_ratio'].min(), df['mistakes_dist_ratio'].max())\n",
    "text_dist_words_ratio_range = (df['text_dist_words_ratio'].min(), df['text_dist_words_ratio'].max())\n",
    "\n",
    "print(f\"Range of 'mistakes_dist_ratio': {mistakes_dist_ratio_range}\")\n",
    "print(f\"Range of 'text_dist_words_ratio': {text_dist_words_ratio_range}\")\n"
   ]
  },
  {
   "cell_type": "markdown",
   "id": "68a2003a-4ac1-4d3f-9bd5-da7e82a618f2",
   "metadata": {},
   "source": [
    "Even though the 'mistakes_dist_ratio' and 'text_dist_words_ratio' features already fall within relatively small ranges, scaling them ensures consistency and comparability with the TF-IDF features. This normalization prevents any single feature from disproportionately influencing the model due to differing scales."
   ]
  },
  {
   "cell_type": "code",
   "execution_count": 8,
   "id": "ae65f8f5-f75b-4545-8ca5-04ae68d7780d",
   "metadata": {},
   "outputs": [],
   "source": [
    "# Exclude 'mistakes_dist_ratio' and 'text_dist_words_ratio' from scaling\n",
    "features_to_scale = [\n",
    "    'reading_time',\n",
    "    'mistakes_dist_ratio',\n",
    "    'polysyllabcount',\n",
    "    'sentence_count',\n",
    "    'difficult_words',\n",
    "    'comma_count',\n",
    "    'transitional_phrases_c',\n",
    "    'text_dist_words_ratio'\n",
    "]\n",
    "\n",
    "# Scale the selected numerical features\n",
    "scaler = StandardScaler()\n",
    "scaled_features = scaler.fit_transform(numerical_features_df[features_to_scale])\n",
    "\n",
    "# Convert scaled numerical features back to DataFrame\n",
    "scaled_features_df = pd.DataFrame(scaled_features, columns=features_to_scale)\n",
    "\n",
    "# Include the unscaled features\n",
    "#unscaled_features_df = numerical_features_df[['mistakes_dist_ratio', 'text_dist_words_ratio']]"
   ]
  },
  {
   "cell_type": "code",
   "execution_count": 23,
   "id": "ae469681-474a-489f-817c-3ea97f364f6c",
   "metadata": {},
   "outputs": [
    {
     "name": "stdout",
     "output_type": "stream",
     "text": [
      "                             min        max\n",
      "reading_time           -1.562640   7.108973\n",
      "mistakes_dist_ratio    -2.495825   4.155722\n",
      "polysyllabcount        -1.620069  11.390363\n",
      "sentence_count         -2.164033   8.711115\n",
      "difficult_words        -1.823100   7.380028\n",
      "comma_count            -1.212686   9.098990\n",
      "transitional_phrases_c -2.359454   5.011177\n",
      "text_dist_words_ratio  -5.518142   3.555418\n"
     ]
    }
   ],
   "source": [
    "# Check the minimum and maximum values for each feature\n",
    "min_values = scaled_features_df.min()\n",
    "max_values = scaled_features_df.max()\n",
    "\n",
    "# Create a DataFrame to display the range of each feature\n",
    "range_df = pd.DataFrame({'min': min_values, 'max': max_values})\n",
    "\n",
    "# Display the range\n",
    "print(range_df)"
   ]
  },
  {
   "cell_type": "markdown",
   "id": "78a4643a-2b38-4da7-a395-35c15ad27693",
   "metadata": {},
   "source": [
    "### Combine numerical scaled features with TF_IDF vectors"
   ]
  },
  {
   "cell_type": "code",
   "execution_count": 10,
   "id": "0262fd58-a12a-4bc2-b9dc-c393bb951c48",
   "metadata": {},
   "outputs": [
    {
     "name": "stdout",
     "output_type": "stream",
     "text": [
      "Total number of features: 1308\n",
      "File exported\n"
     ]
    }
   ],
   "source": [
    "# Combine scaled and unscaled features\n",
    "#combined_numerical_features_df = pd.concat([scaled_features_df, unscaled_features_df], axis=1)\n",
    "\n",
    "# Combine the numerical features with the TF-IDF features\n",
    "combined_features_df = pd.concat([scaled_features_df, tfidf_features_df], axis=1)\n",
    "\n",
    "# Print the count of the combined features\n",
    "print(f\"Total number of features: {combined_features_df.shape[1]}\")\n",
    "\n",
    "# Export the combined features to a CSV file\n",
    "combined_features_df.to_csv('combined_features.csv', index=False)\n",
    "print('File exported')"
   ]
  },
  {
   "cell_type": "code",
   "execution_count": null,
   "id": "a6ef8ac0-92ba-434c-8711-3a2e1766a406",
   "metadata": {},
   "outputs": [],
   "source": []
  },
  {
   "cell_type": "code",
   "execution_count": null,
   "id": "fae0f629-4862-4084-9a33-96a4c1f7f09b",
   "metadata": {},
   "outputs": [],
   "source": []
  }
 ],
 "metadata": {
  "kernelspec": {
   "display_name": "Python 3 (ipykernel)",
   "language": "python",
   "name": "python3"
  },
  "language_info": {
   "codemirror_mode": {
    "name": "ipython",
    "version": 3
   },
   "file_extension": ".py",
   "mimetype": "text/x-python",
   "name": "python",
   "nbconvert_exporter": "python",
   "pygments_lexer": "ipython3",
   "version": "3.11.7"
  }
 },
 "nbformat": 4,
 "nbformat_minor": 5
}
