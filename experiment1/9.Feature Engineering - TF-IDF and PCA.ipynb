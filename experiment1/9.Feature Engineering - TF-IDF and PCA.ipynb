{
 "cells": [
  {
   "cell_type": "markdown",
   "id": "29318f4a-0346-48bb-a1da-3c9a11cfb8f4",
   "metadata": {},
   "source": [
    "### Readme\n",
    "This notebook demonstrates the process of feature engineering using TF-IDF vectorization and PCA for dimensionality reduction. We will walk through the following steps:\n",
    "\n",
    "1. **Data Preprocessing:** Clean and preprocess the text data.\n",
    "2. **TF-IDF Vectorization:** Transform the cleaned text data into TF-IDF vectors.\n",
    "3. **PCA Transformation:** Apply PCA to reduce the dimensionality of the TF-IDF vectors.\n",
    "4. **Variance Analysis:** Analyze the explained variance to determine the effectiveness of the PCA transformation."
   ]
  },
  {
   "cell_type": "markdown",
   "id": "7ffc42dd-997e-4c7b-8da5-0eb7412bfc1e",
   "metadata": {},
   "source": [
    "## Contents\n",
    "- [1. Import Libraries](#1.-Import-Libraries)\n",
    "- [2. Load Data](#2.-Load-Data)\n",
    "- [3. Data Preprocessing](#3.-Data-Preprocessing)\n",
    "- [4. TF-IDF Vectorization and Feature Count](#4.-TF-IDF-Vectorization-and-Feature-Count)\n",
    "- [5. Determining the Number of Principal Components for Desired Variance Explained](#5.-Determining-the-Number-of-Principal-Components-for-Desired-Variance-Explained)\n",
    "- [6. PCA Transformation and Variance Analysis](#6.-PCA-Transformation-and-Variance-Analysis)\n",
    "- [7. Conclusion](#7.-Conclusion)\n",
    "- [8. Convert the reduced TF-IDF vectors to a DataFrame](#8.-Convert-the-reduced-TF-IDF-vectors-to-a-DataFrame\r\n",
    ")\r\n",
    "\r\n"
   ]
  },
  {
   "cell_type": "markdown",
   "id": "9fac32b2-3194-4aaa-a336-b776663a8263",
   "metadata": {},
   "source": [
    "### Import and Get Data"
   ]
  },
  {
   "cell_type": "code",
   "execution_count": 63,
   "id": "6aebefe6-5f48-4151-b3f7-c7a465e05a15",
   "metadata": {},
   "outputs": [
    {
     "data": {
      "text/plain": [
       "(13843, 9)"
      ]
     },
     "execution_count": 63,
     "metadata": {},
     "output_type": "execute_result"
    }
   ],
   "source": [
    "# 1. Import\n",
    "import pandas as pd\n",
    "import numpy as np\n",
    "from sklearn.feature_extraction.text import TfidfVectorizer\n",
    "from sklearn.feature_extraction.text import CountVectorizer\n",
    "from sklearn.decomposition import PCA\n",
    "import matplotlib.pyplot as plt\n",
    "import warnings\n",
    "import time\n",
    "from sklearn.feature_extraction.text import CountVectorizer\n",
    "\n",
    "# 2. Get data\n",
    "df = pd.read_csv('transformed_data_v1.csv')\n",
    "df.shape\n"
   ]
  },
  {
   "cell_type": "markdown",
   "id": "3fbd63d4-f8c0-447f-a139-c05b00659efb",
   "metadata": {},
   "source": [
    "### Find out Vocabulary size"
   ]
  },
  {
   "cell_type": "code",
   "execution_count": 64,
   "id": "feaf3954-ed7e-4f24-94b7-6e796482dd1a",
   "metadata": {},
   "outputs": [
    {
     "name": "stdout",
     "output_type": "stream",
     "text": [
      "Vocabulary size: 54056\n"
     ]
    }
   ],
   "source": [
    "text_data = df['clean_lemm_preprocessed_text'].tolist()\n",
    "vectorizer = CountVectorizer()\n",
    "vectorizer.fit_transform(text_data)\n",
    "\n",
    "# Vocabulary size\n",
    "vocabulary_size = len(vectorizer.vocabulary_)\n",
    "print(f\"Vocabulary size: {vocabulary_size}\")"
   ]
  },
  {
   "cell_type": "markdown",
   "id": "dfb6be0b-5861-4199-a8d7-d36e73b5e25d",
   "metadata": {},
   "source": [
    "### TF-IDF Vectorization and Feature Count"
   ]
  },
  {
   "cell_type": "code",
   "execution_count": 36,
   "id": "fe238673-28a5-4808-bbf2-2cbe9310ae06",
   "metadata": {},
   "outputs": [
    {
     "name": "stdout",
     "output_type": "stream",
     "text": [
      "Number of features created: 6168\n"
     ]
    }
   ],
   "source": [
    "# 3. TF-IDF Vectorization\n",
    "tfidf_vectorizer = TfidfVectorizer(\n",
    "    max_df=0.99, \n",
    "    min_df=10\n",
    ")\n",
    "tfidf_vectors = tfidf_vectorizer.fit_transform(df['clean_lemm_preprocessed_text'])\n",
    "\n",
    "# Count the number of features\n",
    "num_features = len(tfidf_vectorizer.get_feature_names_out())\n",
    "print(f\"Number of features created: {num_features}\")"
   ]
  },
  {
   "cell_type": "markdown",
   "id": "0e6ba4db-7275-4979-a719-208ec58099fd",
   "metadata": {},
   "source": [
    "The dataset contains 13,843 rows, and the TF-IDF vectorization generates 6,969 features. This number of features is excessive. To manage this, we should apply dimensionality reduction and limit the number of features to no more than 10% of the dataset size, which is 1,384 features in total."
   ]
  },
  {
   "cell_type": "markdown",
   "id": "242ae451-aa33-414e-9da1-97e69cb6b6b1",
   "metadata": {},
   "source": [
    "### Determining the Number of Principal Components for Desired Variance Explained"
   ]
  },
  {
   "cell_type": "code",
   "execution_count": 39,
   "id": "64697b37-d5f6-4e0b-ab77-2de98cbda1ba",
   "metadata": {},
   "outputs": [
    {
     "name": "stdout",
     "output_type": "stream",
     "text": [
      "Number of components to explain 95.0% variance: 2692\n",
      "Number of components to explain 90.0% variance: 1758\n",
      "Number of components to explain 85.0% variance: 1237\n"
     ]
    }
   ],
   "source": [
    "# Fit PCA with all components\n",
    "pca = PCA(n_components=None)\n",
    "pca.fit(tfidf_vectors.toarray())\n",
    "\n",
    "# Calculate cumulative explained variance\n",
    "cumulative_explained_variance = np.cumsum(pca.explained_variance_ratio_)\n",
    "\n",
    "# Thresholds for explained variance\n",
    "thresholds = [0.95, 0.90, 0.85]\n",
    "\n",
    "# Find the number of components for each threshold\n",
    "num_components = {threshold: np.argmax(cumulative_explained_variance >= threshold) + 1 for threshold in thresholds}\n",
    "\n",
    "# Print the number of components for each threshold\n",
    "for threshold, components in num_components.items():\n",
    "    print(f\"Number of components to explain {threshold * 100}% variance: {components}\")\n"
   ]
  },
  {
   "cell_type": "markdown",
   "id": "eebcf66c-5406-4c85-aa39-2098a61dbcb8",
   "metadata": {},
   "source": [
    "Analyzing the result we can say that 1300 features will explain more than 85% variance"
   ]
  },
  {
   "cell_type": "markdown",
   "id": "9aa2da1c-46c1-406d-9f84-3a87d36bd9ca",
   "metadata": {},
   "source": [
    "### PCA Transformation and Variance Analysis"
   ]
  },
  {
   "cell_type": "code",
   "execution_count": 42,
   "id": "49f783bf-3414-4aba-bb33-aa7977bf1201",
   "metadata": {},
   "outputs": [
    {
     "name": "stdout",
     "output_type": "stream",
     "text": [
      "Using 1300 components\n",
      "Working on PCA\n",
      "Elapsed time: 59.52487015724182 seconds\n",
      "Number of features after PCA: 1300\n"
     ]
    },
    {
     "data": {
      "image/png": "[encoded data removed]",
      "text/plain": [
       "<Figure size 1000x600 with 1 Axes>"
      ]
     },
     "metadata": {},
     "output_type": "display_data"
    },
    {
     "data": {
      "image/png": "[encoded data removed]",
      "text/plain": [
       "<Figure size 1000x600 with 1 Axes>"
      ]
     },
     "metadata": {},
     "output_type": "display_data"
    }
   ],
   "source": [
    "import numpy as np\n",
    "from sklearn.decomposition import PCA\n",
    "import matplotlib.pyplot as plt\n",
    "\n",
    "# Fit PCA with 1300 components\n",
    "pca = PCA(n_components=1300)\n",
    "pca.fit(tfidf_vectors.toarray())\n",
    "\n",
    "# Calculate cumulative explained variance\n",
    "cumulative_explained_variance = np.cumsum(pca.explained_variance_ratio_)\n",
    "\n",
    "# Print the number of components\n",
    "print(\"Using 1300 components\")\n",
    "\n",
    "# Refit PCA with 1300 components\n",
    "print(\"Working on PCA\")\n",
    "start_time = time.time()\n",
    "tfidf_vectors_reduced = pca.fit_transform(tfidf_vectors.toarray())\n",
    "end_time = time.time()\n",
    "print(f\"Elapsed time: {end_time - start_time} seconds\")\n",
    "\n",
    "# Count the number of features after PCA\n",
    "num_features_reduced = tfidf_vectors_reduced.shape[1]\n",
    "print(f\"Number of features after PCA: {num_features_reduced}\")\n",
    "\n",
    "# Plot explained variance ratio as a histogram\n",
    "plt.figure(figsize=(10, 6))\n",
    "plt.bar(range(1, len(pca.explained_variance_ratio_) + 1), pca.explained_variance_ratio_, color='b', alpha=0.7)\n",
    "plt.axvline(x=1300, color='r', linestyle='--', label='1300 components')\n",
    "plt.title('Explained Variance Ratio by Principal Components')\n",
    "plt.xlabel('Principal Component')\n",
    "plt.ylabel('Explained Variance Ratio')\n",
    "plt.legend()\n",
    "plt.grid(True)\n",
    "plt.tight_layout()\n",
    "\n",
    "# Save the plot\n",
    "plt.savefig('explained_variance_ratio_histogram.png')\n",
    "\n",
    "# Show the plot\n",
    "plt.show()\n",
    "\n",
    "# Plot cumulative explained variance\n",
    "plt.figure(figsize=(10, 6))\n",
    "plt.plot(range(1, len(cumulative_explained_variance) + 1), cumulative_explained_variance, marker='o', linestyle='--', color='b')\n",
    "plt.axvline(x=1300, color='r', linestyle='--', label='1300 components')\n",
    "plt.title('Cumulative Explained Variance by Principal Components')\n",
    "plt.xlabel('Number of Principal Components')\n",
    "plt.ylabel('Cumulative Explained Variance Ratio')\n",
    "plt.legend()\n",
    "plt.grid(True)\n",
    "plt.tight_layout()\n",
    "\n",
    "# Save the plot\n",
    "plt.savefig('cumulative_explained_variance_ratio_plot.png')\n",
    "\n",
    "# Show the plot\n",
    "plt.show()\n"
   ]
  },
  {
   "cell_type": "markdown",
   "id": "76315841-d799-4a1b-bd3f-4c9c91453687",
   "metadata": {},
   "source": [
    "### Conclusion"
   ]
  },
  {
   "cell_type": "markdown",
   "id": "fbfdd53e-5cec-4b70-817a-ad5dbd8423fb",
   "metadata": {},
   "source": [
    "- **Cumulative Explained Variance Plot**\n",
    "The cumulative explained variance plot shows that 1300 components are required to capture slightly over 85% of the total variance. The curve rises steeply initially and then starts to flatten out, indicating diminishing returns for each additional component.\n",
    "- **Explained Variance Ratio Histogram**\n",
    "The histogram shows that the first few principal components explain a significant portion of the variance, while the contribution of each subsequent component rapidly decreases.\n",
    "- **Conclusion**\n",
    "Based on the analysis, 1300 components were selected to capture slightly over 85% of the variance. This decision is based on the best practice of not creating a number of features that exceeds 10% of the 13,000 rows in the dataset. Choosing fewer components would capture significantly less variance and may not be sufficient for effective data representation."
   ]
  },
  {
   "cell_type": "markdown",
   "id": "62002c7d-905c-4e41-ac1b-aedf45de5f4a",
   "metadata": {},
   "source": [
    "### Convert the reduced TF-IDF vectors to a DataFrame"
   ]
  },
  {
   "cell_type": "code",
   "execution_count": 58,
   "id": "50475c8b-ed35-4402-b0dc-5c5a7fae4c72",
   "metadata": {},
   "outputs": [],
   "source": [
    "tfidf_features_df = pd.DataFrame(tfidf_vectors_reduced, columns=[f'tfidf_feature_{i}' for i in range(1, num_features_reduced + 1)])\n",
    "# Export the reduced TF-IDF features to a CSV file\n",
    "tfidf_features_df.to_csv('tfidf_features.csv', index=False)"
   ]
  },
  {
   "cell_type": "code",
   "execution_count": 51,
   "id": "b06b6280-ca29-4352-916d-88dbf0dac8c5",
   "metadata": {},
   "outputs": [
    {
     "data": {
      "text/plain": [
       "(13843, 1300)"
      ]
     },
     "execution_count": 51,
     "metadata": {},
     "output_type": "execute_result"
    }
   ],
   "source": [
    "tfidf_features_df.shape"
   ]
  },
  {
   "cell_type": "code",
   "execution_count": 52,
   "id": "5b0d96c7-8e74-47b5-a266-a35a6573346e",
   "metadata": {},
   "outputs": [
    {
     "data": {
      "text/html": [
       "<div>\n",
       "<style scoped>\n",
       "    .dataframe tbody tr th:only-of-type {\n",
       "        vertical-align: middle;\n",
       "    }\n",
       "\n",
       "    .dataframe tbody tr th {\n",
       "        vertical-align: top;\n",
       "    }\n",
       "\n",
       "    .dataframe thead th {\n",
       "        text-align: right;\n",
       "    }\n",
       "</style>\n",
       "<table border=\"1\" class=\"dataframe\">\n",
       "  <thead>\n",
       "    <tr style=\"text-align: right;\">\n",
       "      <th></th>\n",
       "      <th>tfidf_feature_1</th>\n",
       "      <th>tfidf_feature_2</th>\n",
       "      <th>tfidf_feature_3</th>\n",
       "      <th>tfidf_feature_4</th>\n",
       "      <th>tfidf_feature_5</th>\n",
       "      <th>tfidf_feature_6</th>\n",
       "      <th>tfidf_feature_7</th>\n",
       "      <th>tfidf_feature_8</th>\n",
       "      <th>tfidf_feature_9</th>\n",
       "      <th>tfidf_feature_10</th>\n",
       "      <th>...</th>\n",
       "      <th>tfidf_feature_1291</th>\n",
       "      <th>tfidf_feature_1292</th>\n",
       "      <th>tfidf_feature_1293</th>\n",
       "      <th>tfidf_feature_1294</th>\n",
       "      <th>tfidf_feature_1295</th>\n",
       "      <th>tfidf_feature_1296</th>\n",
       "      <th>tfidf_feature_1297</th>\n",
       "      <th>tfidf_feature_1298</th>\n",
       "      <th>tfidf_feature_1299</th>\n",
       "      <th>tfidf_feature_1300</th>\n",
       "    </tr>\n",
       "  </thead>\n",
       "  <tbody>\n",
       "    <tr>\n",
       "      <th>0</th>\n",
       "      <td>0.331321</td>\n",
       "      <td>-0.077857</td>\n",
       "      <td>-0.064500</td>\n",
       "      <td>-0.001558</td>\n",
       "      <td>0.052824</td>\n",
       "      <td>0.280229</td>\n",
       "      <td>0.022109</td>\n",
       "      <td>0.107194</td>\n",
       "      <td>0.029017</td>\n",
       "      <td>-0.019303</td>\n",
       "      <td>...</td>\n",
       "      <td>-0.004289</td>\n",
       "      <td>0.007431</td>\n",
       "      <td>0.001110</td>\n",
       "      <td>-0.002258</td>\n",
       "      <td>0.011540</td>\n",
       "      <td>-0.008373</td>\n",
       "      <td>0.006289</td>\n",
       "      <td>0.013334</td>\n",
       "      <td>0.000038</td>\n",
       "      <td>0.000133</td>\n",
       "    </tr>\n",
       "    <tr>\n",
       "      <th>1</th>\n",
       "      <td>-0.140041</td>\n",
       "      <td>0.517077</td>\n",
       "      <td>-0.313163</td>\n",
       "      <td>-0.008119</td>\n",
       "      <td>-0.059360</td>\n",
       "      <td>-0.012282</td>\n",
       "      <td>0.010914</td>\n",
       "      <td>-0.059789</td>\n",
       "      <td>-0.023899</td>\n",
       "      <td>0.021718</td>\n",
       "      <td>...</td>\n",
       "      <td>-0.008835</td>\n",
       "      <td>0.002224</td>\n",
       "      <td>0.002022</td>\n",
       "      <td>0.000414</td>\n",
       "      <td>0.010228</td>\n",
       "      <td>0.009403</td>\n",
       "      <td>-0.007895</td>\n",
       "      <td>-0.013383</td>\n",
       "      <td>0.007536</td>\n",
       "      <td>-0.005526</td>\n",
       "    </tr>\n",
       "    <tr>\n",
       "      <th>2</th>\n",
       "      <td>-0.024343</td>\n",
       "      <td>0.045637</td>\n",
       "      <td>0.101419</td>\n",
       "      <td>-0.013046</td>\n",
       "      <td>0.381461</td>\n",
       "      <td>-0.071019</td>\n",
       "      <td>-0.002670</td>\n",
       "      <td>0.105201</td>\n",
       "      <td>0.009247</td>\n",
       "      <td>-0.086095</td>\n",
       "      <td>...</td>\n",
       "      <td>-0.003679</td>\n",
       "      <td>-0.017661</td>\n",
       "      <td>0.001748</td>\n",
       "      <td>-0.018904</td>\n",
       "      <td>0.001836</td>\n",
       "      <td>0.024326</td>\n",
       "      <td>0.004612</td>\n",
       "      <td>0.006400</td>\n",
       "      <td>0.021751</td>\n",
       "      <td>-0.003603</td>\n",
       "    </tr>\n",
       "    <tr>\n",
       "      <th>3</th>\n",
       "      <td>0.397266</td>\n",
       "      <td>-0.119471</td>\n",
       "      <td>-0.114529</td>\n",
       "      <td>-0.000858</td>\n",
       "      <td>-0.043984</td>\n",
       "      <td>-0.020040</td>\n",
       "      <td>0.016063</td>\n",
       "      <td>-0.006226</td>\n",
       "      <td>0.075869</td>\n",
       "      <td>0.054712</td>\n",
       "      <td>...</td>\n",
       "      <td>-0.000136</td>\n",
       "      <td>0.010159</td>\n",
       "      <td>-0.014822</td>\n",
       "      <td>0.009271</td>\n",
       "      <td>-0.016358</td>\n",
       "      <td>-0.002428</td>\n",
       "      <td>-0.006468</td>\n",
       "      <td>0.000852</td>\n",
       "      <td>0.003331</td>\n",
       "      <td>0.002286</td>\n",
       "    </tr>\n",
       "    <tr>\n",
       "      <th>4</th>\n",
       "      <td>-0.031322</td>\n",
       "      <td>0.061860</td>\n",
       "      <td>0.240530</td>\n",
       "      <td>-0.220231</td>\n",
       "      <td>-0.043158</td>\n",
       "      <td>-0.002319</td>\n",
       "      <td>0.033518</td>\n",
       "      <td>0.125073</td>\n",
       "      <td>0.029756</td>\n",
       "      <td>-0.033702</td>\n",
       "      <td>...</td>\n",
       "      <td>-0.008874</td>\n",
       "      <td>-0.003359</td>\n",
       "      <td>0.009186</td>\n",
       "      <td>-0.023060</td>\n",
       "      <td>-0.005461</td>\n",
       "      <td>-0.008493</td>\n",
       "      <td>0.009210</td>\n",
       "      <td>0.002091</td>\n",
       "      <td>0.003931</td>\n",
       "      <td>0.010133</td>\n",
       "    </tr>\n",
       "  </tbody>\n",
       "</table>\n",
       "<p>5 rows × 1300 columns</p>\n",
       "</div>"
      ],
      "text/plain": [
       "   tfidf_feature_1  tfidf_feature_2  tfidf_feature_3  tfidf_feature_4  \\\n",
       "0         0.331321        -0.077857        -0.064500        -0.001558   \n",
       "1        -0.140041         0.517077        -0.313163        -0.008119   \n",
       "2        -0.024343         0.045637         0.101419        -0.013046   \n",
       "3         0.397266        -0.119471        -0.114529        -0.000858   \n",
       "4        -0.031322         0.061860         0.240530        -0.220231   \n",
       "\n",
       "   tfidf_feature_5  tfidf_feature_6  tfidf_feature_7  tfidf_feature_8  \\\n",
       "0         0.052824         0.280229         0.022109         0.107194   \n",
       "1        -0.059360        -0.012282         0.010914        -0.059789   \n",
       "2         0.381461        -0.071019        -0.002670         0.105201   \n",
       "3        -0.043984        -0.020040         0.016063        -0.006226   \n",
       "4        -0.043158        -0.002319         0.033518         0.125073   \n",
       "\n",
       "   tfidf_feature_9  tfidf_feature_10  ...  tfidf_feature_1291  \\\n",
       "0         0.029017         -0.019303  ...           -0.004289   \n",
       "1        -0.023899          0.021718  ...           -0.008835   \n",
       "2         0.009247         -0.086095  ...           -0.003679   \n",
       "3         0.075869          0.054712  ...           -0.000136   \n",
       "4         0.029756         -0.033702  ...           -0.008874   \n",
       "\n",
       "   tfidf_feature_1292  tfidf_feature_1293  tfidf_feature_1294  \\\n",
       "0            0.007431            0.001110           -0.002258   \n",
       "1            0.002224            0.002022            0.000414   \n",
       "2           -0.017661            0.001748           -0.018904   \n",
       "3            0.010159           -0.014822            0.009271   \n",
       "4           -0.003359            0.009186           -0.023060   \n",
       "\n",
       "   tfidf_feature_1295  tfidf_feature_1296  tfidf_feature_1297  \\\n",
       "0            0.011540           -0.008373            0.006289   \n",
       "1            0.010228            0.009403           -0.007895   \n",
       "2            0.001836            0.024326            0.004612   \n",
       "3           -0.016358           -0.002428           -0.006468   \n",
       "4           -0.005461           -0.008493            0.009210   \n",
       "\n",
       "   tfidf_feature_1298  tfidf_feature_1299  tfidf_feature_1300  \n",
       "0            0.013334            0.000038            0.000133  \n",
       "1           -0.013383            0.007536           -0.005526  \n",
       "2            0.006400            0.021751           -0.003603  \n",
       "3            0.000852            0.003331            0.002286  \n",
       "4            0.002091            0.003931            0.010133  \n",
       "\n",
       "[5 rows x 1300 columns]"
      ]
     },
     "execution_count": 52,
     "metadata": {},
     "output_type": "execute_result"
    }
   ],
   "source": [
    "tfidf_features_df.head()"
   ]
  },
  {
   "cell_type": "code",
   "execution_count": null,
   "id": "b6845045-73de-4f72-84db-2393b85b37b1",
   "metadata": {},
   "outputs": [],
   "source": []
  }
 ],
 "metadata": {
  "kernelspec": {
   "display_name": "Python 3 (ipykernel)",
   "language": "python",
   "name": "python3"
  },
  "language_info": {
   "codemirror_mode": {
    "name": "ipython",
    "version": 3
   },
   "file_extension": ".py",
   "mimetype": "text/x-python",
   "name": "python",
   "nbconvert_exporter": "python",
   "pygments_lexer": "ipython3",
   "version": "3.11.7"
  }
 },
 "nbformat": 4,
 "nbformat_minor": 5
}
