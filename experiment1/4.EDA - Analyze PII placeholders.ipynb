{
 "cells": [
  {
   "cell_type": "markdown",
   "id": "dc52a88e-bb84-474a-95d1-768f19d5a8de",
   "metadata": {},
   "source": [
    "## Content\n",
    "  - [Loading Data](#Loading-Data)\n",
    "  - [Functions](#Functions)\n",
    "    - [Count Rows Containing Substring](#Count-Rows-Containing-Substring)\n",
    "    - [Find and Count Regex Pattern](#Find-and-Count-Regex-Pattern)\n",
    "  - [Analysis](#Analysis)\n",
    "    - [Count Rows Containing 'PROPER_NAME'](#Count-Rows-Containing-'PROPER_NAME')\n",
    "    - [Count Rows Containing Words with All Capitals and Underscore](#Count-Rows-Containing-Words-with-All-Capitals-and-Underscore)\n",
    "    - [Find and Count Distinct Words with All Capitals and Underscore](#Find-and-Count-Distinct-Words-with-All-Capitals-and-Underscore)\n"
   ]
  },
  {
   "cell_type": "code",
   "execution_count": 1,
   "id": "375a2505-9930-4450-923c-140beb3c40d7",
   "metadata": {},
   "outputs": [
    {
     "name": "stdout",
     "output_type": "stream",
     "text": [
      "Number of rows containing 'PROPER_NAME': 228\n",
      "Number of rows containing words with all capitals and underscore: 248\n",
      "              Word  Count\n",
      "0      PROPER_NAME    252\n",
      "1        OTHER_PII     28\n",
      "2    LOCATION_NAME     12\n",
      "3      SCHOOL_NAME     14\n",
      "4       CITY_STATE      1\n",
      "5   STREET_ADDRESS      2\n",
      "6    EMAIL_ADDRESS      2\n",
      "7     STUDENT_NAME      7\n",
      "8     PHONE_NUMBER      2\n",
      "9       STATE_NAME      1\n",
      "10       TEST_NAME      1\n",
      "11    GENERIC_NAME      1\n"
     ]
    }
   ],
   "source": [
    "import pandas as pd\n",
    "import re\n",
    "from collections import Counter\n",
    "\n",
    "df = pd.read_csv('train_split.csv')\n",
    "# Define the regex pattern to find words with all capitals and underscore\n",
    "pattern = r'\\b[A-Z]+_[A-Z]+\\b'\n",
    "\n",
    "def count_rows_containing(df, column, substring):\n",
    "    return df[column].str.contains(substring).sum()\n",
    "\n",
    "def find_and_count_pattern(df, column, pattern):\n",
    "    # Find all matches in the specified column\n",
    "    matches = df[column].apply(lambda x: re.findall(pattern, x))\n",
    "    \n",
    "    # Flatten the list of matches and get distinct words\n",
    "    flattened_matches = [item for sublist in matches for item in sublist]\n",
    "    \n",
    "    word_counts = Counter(flattened_matches)\n",
    "    df_word_counts = pd.DataFrame(word_counts.items(), columns=['Word', 'Count'])\n",
    "    return df_word_counts\n",
    "\n",
    "# Count rows containing 'PROPER_NAME'\n",
    "count_proper_name = count_rows_containing(df, 'full_text', 'PROPER_NAME')\n",
    "print(f\"Number of rows containing 'PROPER_NAME': {count_proper_name}\")\n",
    "\n",
    "# Count rows containing words with all capitals and underscore\n",
    "count_capital_underscore = count_rows_containing(df, 'full_text', pattern)\n",
    "print(f\"Number of rows containing words with all capitals and underscore: {count_capital_underscore}\")\n",
    "\n",
    "# Find and count distinct words with all capitals and underscore\n",
    "df_word_counts = find_and_count_pattern(df, 'full_text', pattern)\n",
    "print(df_word_counts)\n"
   ]
  },
  {
   "cell_type": "code",
   "execution_count": null,
   "id": "16bab34c-c919-4e1c-bb54-73eeff15ab6a",
   "metadata": {},
   "outputs": [],
   "source": []
  }
 ],
 "metadata": {
  "kernelspec": {
   "display_name": "Python 3 (ipykernel)",
   "language": "python",
   "name": "python3"
  },
  "language_info": {
   "codemirror_mode": {
    "name": "ipython",
    "version": 3
   },
   "file_extension": ".py",
   "mimetype": "text/x-python",
   "name": "python",
   "nbconvert_exporter": "python",
   "pygments_lexer": "ipython3",
   "version": "3.11.7"
  }
 },
 "nbformat": 4,
 "nbformat_minor": 5
}
